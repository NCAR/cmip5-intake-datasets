{
 "cells": [
  {
   "cell_type": "code",
   "execution_count": 24,
   "metadata": {},
   "outputs": [],
   "source": [
    "import os\n",
    "import pandas as pd\n",
    "HOME=os.environ[\"HOME\"]"
   ]
  },
  {
   "cell_type": "code",
   "execution_count": 30,
   "metadata": {},
   "outputs": [],
   "source": [
    "test_paths = [f\"{HOME}/cmip5_test/output1/CCCma/CanESM2/rcp85/mon/atmos/Amon/r2i1p1\",\n",
    "              f\"{HOME}/cmip5_test/output2/CSIRO-QCCCE/CSIRO-Mk3-6-0/historical/mon/seaIce/OImon/r2i1p1/v1/sic\"]"
   ]
  },
  {
   "cell_type": "code",
   "execution_count": 31,
   "metadata": {},
   "outputs": [],
   "source": [
    "ds = xr.tutorial.load_dataset('rasm').isel(time=slice(0, 2), x=slice(0, 5), y=slice(0, 3))"
   ]
  },
  {
   "cell_type": "code",
   "execution_count": 33,
   "metadata": {},
   "outputs": [],
   "source": [
    "for idx, path in enumerate(test_paths):\n",
    "    os.makedirs(path, exist_ok=True)\n",
    "    file_path = f\"{path}/var{idx}.nc\"\n",
    "    ds.to_netcdf(file_path, mode='w')"
   ]
  },
  {
   "cell_type": "code",
   "execution_count": 35,
   "metadata": {},
   "outputs": [
    {
     "name": "stdout",
     "output_type": "stream",
     "text": [
      "netcdf var0 {\n",
      "dimensions:\n",
      "\ttime = 2 ;\n",
      "\ty = 3 ;\n",
      "\tx = 5 ;\n",
      "variables:\n",
      "\tdouble Tair(time, y, x) ;\n",
      "\t\tTair:_FillValue = 9.96920996838687e+36 ;\n",
      "\t\tTair:units = \"C\" ;\n",
      "\t\tTair:long_name = \"Surface air temperature\" ;\n",
      "\t\tTair:type_preferred = \"double\" ;\n",
      "\t\tTair:time_rep = \"instantaneous\" ;\n",
      "\t\tTair:coordinates = \"xc yc\" ;\n",
      "\tdouble time(time) ;\n",
      "\t\ttime:_FillValue = NaN ;\n",
      "\t\ttime:long_name = \"time\" ;\n",
      "\t\ttime:type_preferred = \"int\" ;\n",
      "\t\ttime:units = \"days since 0001-01-01\" ;\n",
      "\t\ttime:calendar = \"noleap\" ;\n",
      "\tdouble xc(y, x) ;\n",
      "\t\txc:_FillValue = NaN ;\n",
      "\t\txc:long_name = \"longitude of grid cell center\" ;\n",
      "\t\txc:units = \"degrees_east\" ;\n",
      "\t\txc:bounds = \"xv\" ;\n",
      "\tdouble yc(y, x) ;\n",
      "\t\tyc:_FillValue = NaN ;\n",
      "\t\tyc:long_name = \"latitude of grid cell center\" ;\n",
      "\t\tyc:units = \"degrees_north\" ;\n",
      "\t\tyc:bounds = \"yv\" ;\n",
      "\n",
      "// global attributes:\n",
      "\t\t:title = \"/workspace/jhamman/processed/R1002RBRxaaa01a/lnd/temp/R1002RBRxaaa01a.vic.ha.1979-09-01.nc\" ;\n",
      "\t\t:institution = \"U.W.\" ;\n",
      "\t\t:source = \"RACM R1002RBRxaaa01a\" ;\n",
      "\t\t:output_frequency = \"daily\" ;\n",
      "\t\t:output_mode = \"averaged\" ;\n",
      "\t\t:convention = \"CF-1.4\" ;\n",
      "\t\t:references = \"Based on the initial model of Liang et al., 1994, JGR, 99, 14,415- 14,429.\" ;\n",
      "\t\t:comment = \"Output from the Variable Infiltration Capacity (VIC) model.\" ;\n",
      "\t\t:nco_openmp_thread_number = 1 ;\n",
      "\t\t:NCO = \"\\\"4.6.0\\\"\" ;\n",
      "\t\t:history = \"Tue Dec 27 14:15:22 2016: ncatted -a dimensions,,d,, rasm.nc rasm.nc\\nTue Dec 27 13:38:40 2016: ncks -3 rasm.nc rasm.nc\\nhistory deleted for brevity\" ;\n",
      "data:\n",
      "\n",
      " Tair =\n",
      "  _, _, _, _, _,\n",
      "  _, _, _, _, _,\n",
      "  _, _, _, _, _,\n",
      "  _, _, _, _, _,\n",
      "  _, _, _, _, _,\n",
      "  _, _, _, _, _ ;\n",
      "\n",
      " time = 722593.5, 722624 ;\n",
      "\n",
      " xc =\n",
      "  189.222932231116, 189.389909158534, 189.558366188479, 189.728333838529, \n",
      "    189.899827367474,\n",
      "  188.968369855158, 189.13470591344, 189.302537333039, 189.471848855165, \n",
      "    189.642701514974,\n",
      "  188.712342635462, 188.87800730703, 189.045152081126, 189.213837992905, \n",
      "    189.38403452479 ;\n",
      "\n",
      " yc =\n",
      "  16.5349863678845, 16.7784556042798, 17.022224294408, 17.2662809941776, \n",
      "    17.5106199815427,\n",
      "  16.693973411941, 16.9386538147087, 17.1836451153011, 17.4289377769752, \n",
      "    17.6745222629878,\n",
      "  16.8521917945045, 17.0980890856905, 17.3443087187929, 17.5908373423715, \n",
      "    17.8376596976372 ;\n",
      "}\n"
     ]
    }
   ],
   "source": [
    "!ncdump /glade/u/home/abanihi/cmip5_test/output1/CCCma/CanESM2/rcp85/mon/atmos/Amon/r2i1p1/var0.nc"
   ]
  },
  {
   "cell_type": "code",
   "execution_count": 14,
   "metadata": {},
   "outputs": [],
   "source": [
    "import xarray as xr"
   ]
  },
  {
   "cell_type": "code",
   "execution_count": 21,
   "metadata": {},
   "outputs": [],
   "source": [
    "ds1 = xr.tutorial.load_dataset('rasm').isel(time=slice(0, 2), x=slice(0, 5), y=slice(0, 3))"
   ]
  },
  {
   "cell_type": "code",
   "execution_count": 22,
   "metadata": {},
   "outputs": [
    {
     "data": {
      "text/plain": [
       "<xarray.Dataset>\n",
       "Dimensions:  (time: 2, x: 5, y: 3)\n",
       "Coordinates:\n",
       "  * time     (time) datetime64[ns] 1980-09-16T12:00:00 1980-10-17\n",
       "    xc       (y, x) float64 189.2 189.4 189.6 189.7 ... 188.9 189.0 189.2 189.4\n",
       "    yc       (y, x) float64 16.53 16.78 17.02 17.27 ... 17.1 17.34 17.59 17.84\n",
       "Dimensions without coordinates: x, y\n",
       "Data variables:\n",
       "    Tair     (time, y, x) float64 nan nan nan nan nan ... nan nan nan nan nan\n",
       "Attributes:\n",
       "    title:                     /workspace/jhamman/processed/R1002RBRxaaa01a/l...\n",
       "    institution:               U.W.\n",
       "    source:                    RACM R1002RBRxaaa01a\n",
       "    output_frequency:          daily\n",
       "    output_mode:               averaged\n",
       "    convention:                CF-1.4\n",
       "    references:                Based on the initial model of Liang et al., 19...\n",
       "    comment:                   Output from the Variable Infiltration Capacity...\n",
       "    nco_openmp_thread_number:  1\n",
       "    NCO:                       \"4.6.0\"\n",
       "    history:                   Tue Dec 27 14:15:22 2016: ncatted -a dimension..."
      ]
     },
     "execution_count": 22,
     "metadata": {},
     "output_type": "execute_result"
    }
   ],
   "source": [
    "ds1.to_netcdf()"
   ]
  },
  {
   "cell_type": "code",
   "execution_count": null,
   "metadata": {},
   "outputs": [],
   "source": [
    "CMIP5_TEST_DIR=f\"{HOME}/cmip5_test\""
   ]
  }
 ],
 "metadata": {
  "kernelspec": {
   "display_name": "Python [conda env:pangeo]",
   "language": "python",
   "name": "conda-env-pangeo-py"
  },
  "language_info": {
   "codemirror_mode": {
    "name": "ipython",
    "version": 3
   },
   "file_extension": ".py",
   "mimetype": "text/x-python",
   "name": "python",
   "nbconvert_exporter": "python",
   "pygments_lexer": "ipython3",
   "version": "3.6.6"
  }
 },
 "nbformat": 4,
 "nbformat_minor": 2
}
