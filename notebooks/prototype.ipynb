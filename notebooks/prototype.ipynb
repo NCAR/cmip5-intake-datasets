{
 "cells": [
  {
   "cell_type": "code",
   "execution_count": 1,
   "metadata": {},
   "outputs": [],
   "source": [
    "import pandas as pd\n",
    "import intake.catalog\n",
    "import intake.catalog.base\n",
    "import intake.catalog.local\n",
    "import intake.catalog.remote\n",
    "import intake.source.base\n",
    "import intake_xarray.base\n",
    "import os\n",
    "import numpy as np\n",
    "import xarray as xr"
   ]
  },
  {
   "cell_type": "code",
   "execution_count": 2,
   "metadata": {},
   "outputs": [
    {
     "data": {
      "text/html": [
       "<div>\n",
       "<style scoped>\n",
       "    .dataframe tbody tr th:only-of-type {\n",
       "        vertical-align: middle;\n",
       "    }\n",
       "\n",
       "    .dataframe tbody tr th {\n",
       "        vertical-align: top;\n",
       "    }\n",
       "\n",
       "    .dataframe thead th {\n",
       "        text-align: right;\n",
       "    }\n",
       "</style>\n",
       "<table border=\"1\" class=\"dataframe\">\n",
       "  <thead>\n",
       "    <tr style=\"text-align: right;\">\n",
       "      <th></th>\n",
       "      <th>ensemble</th>\n",
       "      <th>experiment</th>\n",
       "      <th>file_basename</th>\n",
       "      <th>file_fullpath</th>\n",
       "      <th>frequency</th>\n",
       "      <th>institution</th>\n",
       "      <th>model</th>\n",
       "      <th>realm</th>\n",
       "      <th>root</th>\n",
       "      <th>varname</th>\n",
       "      <th>version</th>\n",
       "    </tr>\n",
       "  </thead>\n",
       "  <tbody>\n",
       "    <tr>\n",
       "      <th>0</th>\n",
       "      <td>r1i1p1</td>\n",
       "      <td>rcp85</td>\n",
       "      <td>ua_Amon_GFDL-CM3_rcp85_r1i1p1_209601-210012.nc</td>\n",
       "      <td>/glade/collections/cmip/cmip5/output1/NOAA-GFD...</td>\n",
       "      <td>mon</td>\n",
       "      <td>NOAA-GFDL</td>\n",
       "      <td>GFDL-CM3</td>\n",
       "      <td>atmos</td>\n",
       "      <td>/glade/collections/cmip/cmip5/output1/NOAA-GFD...</td>\n",
       "      <td>ua</td>\n",
       "      <td>v0</td>\n",
       "    </tr>\n",
       "    <tr>\n",
       "      <th>1</th>\n",
       "      <td>r4i1p1</td>\n",
       "      <td>historical</td>\n",
       "      <td>ua_Amon_GFDL-CM3_historical_r4i1p1_200501-2005...</td>\n",
       "      <td>/glade/collections/cmip/cmip5/output1/NOAA-GFD...</td>\n",
       "      <td>mon</td>\n",
       "      <td>NOAA-GFDL</td>\n",
       "      <td>GFDL-CM3</td>\n",
       "      <td>atmos</td>\n",
       "      <td>/glade/collections/cmip/cmip5/output1/NOAA-GFD...</td>\n",
       "      <td>ua</td>\n",
       "      <td>v0</td>\n",
       "    </tr>\n",
       "    <tr>\n",
       "      <th>2</th>\n",
       "      <td>r5i1p1</td>\n",
       "      <td>historical</td>\n",
       "      <td>ua_Amon_GFDL-CM3_historical_r5i1p1_200501-2005...</td>\n",
       "      <td>/glade/collections/cmip/cmip5/output1/NOAA-GFD...</td>\n",
       "      <td>mon</td>\n",
       "      <td>NOAA-GFDL</td>\n",
       "      <td>GFDL-CM3</td>\n",
       "      <td>atmos</td>\n",
       "      <td>/glade/collections/cmip/cmip5/output1/NOAA-GFD...</td>\n",
       "      <td>ua</td>\n",
       "      <td>v0</td>\n",
       "    </tr>\n",
       "    <tr>\n",
       "      <th>3</th>\n",
       "      <td>r2i1p1</td>\n",
       "      <td>historical</td>\n",
       "      <td>ua_Amon_GFDL-CM3_historical_r2i1p1_200501-2005...</td>\n",
       "      <td>/glade/collections/cmip/cmip5/output1/NOAA-GFD...</td>\n",
       "      <td>mon</td>\n",
       "      <td>NOAA-GFDL</td>\n",
       "      <td>GFDL-CM3</td>\n",
       "      <td>atmos</td>\n",
       "      <td>/glade/collections/cmip/cmip5/output1/NOAA-GFD...</td>\n",
       "      <td>ua</td>\n",
       "      <td>v0</td>\n",
       "    </tr>\n",
       "    <tr>\n",
       "      <th>4</th>\n",
       "      <td>r4i1p1</td>\n",
       "      <td>rcp85</td>\n",
       "      <td>ua_Amon_CanESM2_rcp85_r4i1p1_200601-210012.nc</td>\n",
       "      <td>/glade/collections/cmip/cmip5/output1/CCCma/Ca...</td>\n",
       "      <td>mon</td>\n",
       "      <td>CCCma</td>\n",
       "      <td>CanESM2</td>\n",
       "      <td>atmos</td>\n",
       "      <td>/glade/collections/cmip/cmip5/output1/CCCma/Ca...</td>\n",
       "      <td>ua</td>\n",
       "      <td>v0</td>\n",
       "    </tr>\n",
       "  </tbody>\n",
       "</table>\n",
       "</div>"
      ],
      "text/plain": [
       "  ensemble  experiment                                      file_basename  \\\n",
       "0   r1i1p1       rcp85     ua_Amon_GFDL-CM3_rcp85_r1i1p1_209601-210012.nc   \n",
       "1   r4i1p1  historical  ua_Amon_GFDL-CM3_historical_r4i1p1_200501-2005...   \n",
       "2   r5i1p1  historical  ua_Amon_GFDL-CM3_historical_r5i1p1_200501-2005...   \n",
       "3   r2i1p1  historical  ua_Amon_GFDL-CM3_historical_r2i1p1_200501-2005...   \n",
       "4   r4i1p1       rcp85      ua_Amon_CanESM2_rcp85_r4i1p1_200601-210012.nc   \n",
       "\n",
       "                                       file_fullpath frequency institution  \\\n",
       "0  /glade/collections/cmip/cmip5/output1/NOAA-GFD...       mon   NOAA-GFDL   \n",
       "1  /glade/collections/cmip/cmip5/output1/NOAA-GFD...       mon   NOAA-GFDL   \n",
       "2  /glade/collections/cmip/cmip5/output1/NOAA-GFD...       mon   NOAA-GFDL   \n",
       "3  /glade/collections/cmip/cmip5/output1/NOAA-GFD...       mon   NOAA-GFDL   \n",
       "4  /glade/collections/cmip/cmip5/output1/CCCma/Ca...       mon       CCCma   \n",
       "\n",
       "      model  realm                                               root varname  \\\n",
       "0  GFDL-CM3  atmos  /glade/collections/cmip/cmip5/output1/NOAA-GFD...      ua   \n",
       "1  GFDL-CM3  atmos  /glade/collections/cmip/cmip5/output1/NOAA-GFD...      ua   \n",
       "2  GFDL-CM3  atmos  /glade/collections/cmip/cmip5/output1/NOAA-GFD...      ua   \n",
       "3  GFDL-CM3  atmos  /glade/collections/cmip/cmip5/output1/NOAA-GFD...      ua   \n",
       "4   CanESM2  atmos  /glade/collections/cmip/cmip5/output1/CCCma/Ca...      ua   \n",
       "\n",
       "  version  \n",
       "0      v0  \n",
       "1      v0  \n",
       "2      v0  \n",
       "3      v0  \n",
       "4      v0  "
      ]
     },
     "execution_count": 2,
     "metadata": {},
     "output_type": "execute_result"
    }
   ],
   "source": [
    "df = pd.read_csv(\"/glade/u/home/abanihi/sorted_cmip5_database.csv\")\n",
    "df.head()"
   ]
  },
  {
   "cell_type": "code",
   "execution_count": 3,
   "metadata": {},
   "outputs": [],
   "source": [
    "class CMIP5DataSource(intake_xarray.base.DataSourceMixin):\n",
    "    container = 'xarray'\n",
    "    name = 'cmip5'\n",
    "    version = '0.0.1'\n",
    "    partition_access = True\n",
    "    \n",
    "    def __init__(self, query_result, metadata=None):\n",
    "        self._df = query_result\n",
    "        self.urlpath = ''\n",
    "        self._ds = None\n",
    "        super().__init__(metadata=metadata)\n",
    "        if self.metadata is None:\n",
    "            self.metadata = {}\n",
    "            \n",
    "    def _open_dataset(self):\n",
    "        ds_list = []\n",
    "        for ens_i in self._df.ensemble.unique():\n",
    "            ens_match = (self._df.ensemble == ens_i)\n",
    "            paths = self._df.loc[ens_match].file_fullpath.tolist()\n",
    "            ds_list.append(xr.open_mfdataset(paths))\n",
    "            \n",
    "        self._ds = xr.concat(ds_list, dim='ensemble')"
   ]
  },
  {
   "cell_type": "code",
   "execution_count": 4,
   "metadata": {},
   "outputs": [
    {
     "data": {
      "text/plain": [
       "__main__.CMIP5DataSource"
      ]
     },
     "execution_count": 4,
     "metadata": {},
     "output_type": "execute_result"
    }
   ],
   "source": [
    "CMIP5DataSource"
   ]
  },
  {
   "cell_type": "code",
   "execution_count": 5,
   "metadata": {},
   "outputs": [],
   "source": [
    "database_file=\"/glade/u/home/abanihi/sorted_cmip5_database.csv\""
   ]
  },
  {
   "cell_type": "code",
   "execution_count": 6,
   "metadata": {},
   "outputs": [],
   "source": [
    "class CMIP5DataStoreCatalog(intake.catalog.Catalog):\n",
    "    name = \"CMIP5_metadatastore\"\n",
    "    def __init__(self, database_file=None, **kwargs):\n",
    "        self._database_file = database_file\n",
    "        self._df = self._read_database()\n",
    "        self.models = self._df.model.unique()\n",
    "        self.experiments = self._df.experiment.unique()\n",
    "        self.ensembles = self._df.ensemble.unique()\n",
    "        self.frequencies = self._df.frequency.unique()\n",
    "        self.realms = self._df.realm.unique()\n",
    "        kwargs.setdefault('name', database_file)\n",
    "        \n",
    "        super().__init__(**kwargs)\n",
    "        if self.metadata is None:\n",
    "            self.metadata = {}\n",
    "            \n",
    "        catalog = self\n",
    "        \n",
    "        \n",
    "    def _read_database(self):\n",
    "        if os.path.exists(self._database_file):\n",
    "            return pd.read_csv(self._database_file)\n",
    "        else:\n",
    "            raise FileNotFoundError(f\"{self._database_file}\")\n",
    "            \n",
    "    def _query_database(self, model, experiment, frequency, realm, ensemble, varname):\n",
    "        query = {'model': model,\n",
    "                'experiment': experiment,\n",
    "                'frequency': frequency,\n",
    "                'realm': realm,\n",
    "                'ensemble': ensemble,\n",
    "                'varname': varname}\n",
    "        \n",
    "        condition = np.ones(len(self._df), dtype=bool)\n",
    "        \n",
    "        for key, val in query.items():\n",
    "            if val is not None:\n",
    "                condition = condition & (self._df[key] == val)\n",
    "        df_subset = self._df.loc[condition]\n",
    "        if df_subset.empty:\n",
    "            raise ValueError(f\"No dataset found for:\\n \\\n",
    "                              \\tmodel = {model} \\n \\\n",
    "                              \\texperiment = {experiment} \\n \\\n",
    "                              \\tfrequency = {frequency} \\n \\\n",
    "                              \\trealm = {realm} \\n \\\n",
    "                              \\tensemble = {ensemble} \\n \\\n",
    "                              \\tvarname = {varname}\")\n",
    "        #-- realm is optional arg so check that the same varname is not in multiple realms\n",
    "        realm_list = df_subset.realm.unique()\n",
    "        if len(realm_list) != 1:\n",
    "            raise ValueError(f\"{varname} found in multiple realms:\\n \\\n",
    "                          '\\t{realm_list}. Please specify the realm to use\")\n",
    "        return df_subset\n",
    "        \n",
    "    def search(self, model=None, experiment=None, frequency=None, realm=None, ensemble=None, varname=None):\n",
    "        self._latest_query_results = self._query_database(model, experiment, frequency, realm, ensemble, varname)\n",
    "        return self._latest_query_results\n",
    "    \n",
    "    def _load(self):\n",
    "        query_result = self._latest_query_results\n",
    "        args = {'query_result': query_result}\n",
    "        return intake.catalog.local.LocalCatalogEntry(\n",
    "        name='test',\n",
    "        description={},\n",
    "        driver= '__main__.CMIP5DataSource',\n",
    "        direct_access='forbid',\n",
    "        args = args,\n",
    "        cache = None,\n",
    "        parameters = {},\n",
    "        metadata = None,\n",
    "        catalog_dir = None)\n",
    "        "
   ]
  },
  {
   "cell_type": "code",
   "execution_count": 7,
   "metadata": {},
   "outputs": [],
   "source": [
    "a = CMIP5DataStoreCatalog(database_file=database_file)"
   ]
  },
  {
   "cell_type": "code",
   "execution_count": 29,
   "metadata": {},
   "outputs": [],
   "source": [
    "b = a.search(model='GFDL-CM3', realm=\"atmos\", frequency=\"mon\", experiment='rcp85', ensemble='r1i1p1', varname='ua')"
   ]
  },
  {
   "cell_type": "code",
   "execution_count": 30,
   "metadata": {},
   "outputs": [],
   "source": [
    "c = a._load()"
   ]
  },
  {
   "cell_type": "code",
   "execution_count": 31,
   "metadata": {},
   "outputs": [
    {
     "data": {
      "text/plain": [
       "{'container': 'xarray',\n",
       " 'description': {},\n",
       " 'direct_access': 'forbid',\n",
       " 'user_parameters': []}"
      ]
     },
     "execution_count": 31,
     "metadata": {},
     "output_type": "execute_result"
    }
   ],
   "source": [
    "c.describe()"
   ]
  },
  {
   "cell_type": "code",
   "execution_count": 32,
   "metadata": {},
   "outputs": [
    {
     "data": {
      "text/plain": [
       "<xarray.Dataset>\n",
       "Dimensions:     (bnds: 2, ensemble: 1, lat: 90, lon: 144, plev: 23, time: 60)\n",
       "Coordinates:\n",
       "  * plev        (plev) float64 1e+05 9.25e+04 8.5e+04 ... 300.0 200.0 100.0\n",
       "  * time        (time) datetime64[ns] 2096-01-16T12:00:00 ... 2100-12-16T12:00:00\n",
       "  * lat         (lat) float64 -89.0 -87.0 -85.0 -83.0 ... 83.0 85.0 87.0 89.0\n",
       "  * lon         (lon) float64 1.25 3.75 6.25 8.75 ... 351.2 353.8 356.2 358.8\n",
       "Dimensions without coordinates: bnds, ensemble\n",
       "Data variables:\n",
       "    time_bnds   (ensemble, time, bnds) datetime64[ns] dask.array<shape=(1, 60, 2), chunksize=(1, 60, 2)>\n",
       "    lat_bnds    (ensemble, lat, bnds) float64 dask.array<shape=(1, 90, 2), chunksize=(1, 90, 2)>\n",
       "    lon_bnds    (ensemble, lon, bnds) float64 dask.array<shape=(1, 144, 2), chunksize=(1, 144, 2)>\n",
       "    ua          (ensemble, time, plev, lat, lon) float32 dask.array<shape=(1, 60, 23, 90, 144), chunksize=(1, 60, 23, 90, 144)>\n",
       "    average_T1  (ensemble, time) datetime64[ns] dask.array<shape=(1, 60), chunksize=(1, 60)>\n",
       "    average_T2  (ensemble, time) datetime64[ns] dask.array<shape=(1, 60), chunksize=(1, 60)>\n",
       "    average_DT  (ensemble, time) timedelta64[ns] dask.array<shape=(1, 60), chunksize=(1, 60)>\n",
       "Attributes:\n",
       "    title:                  NOAA GFDL GFDL-CM3, RCP8.5 (run 1) experiment out...\n",
       "    institute_id:           NOAA GFDL\n",
       "    source:                 GFDL-CM3 2010 atmosphere: AM3 (AM3p9,C48L48); sea...\n",
       "    contact:                gfdl.climate.model.info@noaa.gov\n",
       "    project_id:             CMIP5\n",
       "    table_id:               Table Amon (31 Jan 2011)\n",
       "    experiment_id:          rcp85\n",
       "    realization:            1\n",
       "    modeling_realm:         atmos\n",
       "    tracking_id:            49e11023-58f3-423b-ad39-398fd2e87bce\n",
       "    Conventions:            CF-1.4\n",
       "    references:             The GFDL Data Portal (http://nomads.gfdl.noaa.gov...\n",
       "    comment:                GFDL experiment name: CM3Z_H1_2006-2100_RCP85_Z1\\...\n",
       "    gfdl_experiment_name:   CM3Z_H1_2006-2100_RCP85_Z1\n",
       "    creation_date:          2012-01-12T21:16:43Z\n",
       "    model_id:               GFDL-CM3\n",
       "    branch_time:            53290\n",
       "    experiment:             RCP8.5\n",
       "    forcing:                GHG,SA,Oz,LU,Sl,SS,BC,MD,OC (GHG includes CO2, CH...\n",
       "    frequency:              mon\n",
       "    initialization_method:  1\n",
       "    parent_experiment_id:   historical\n",
       "    physics_version:        1\n",
       "    product:                output1\n",
       "    institution:            NOAA GFDL(201 Forrestal Rd, Princeton, NJ, 08540)\n",
       "    history:                File was processed by fremetar (GFDL analog of CM...\n",
       "    parent_experiment_rip:  r1i1p1"
      ]
     },
     "execution_count": 32,
     "metadata": {},
     "output_type": "execute_result"
    }
   ],
   "source": [
    "c.to_dask()"
   ]
  },
  {
   "cell_type": "code",
   "execution_count": 35,
   "metadata": {},
   "outputs": [],
   "source": [
    "a.to_dask()"
   ]
  },
  {
   "cell_type": "code",
   "execution_count": 34,
   "metadata": {},
   "outputs": [
    {
     "name": "stdout",
     "output_type": "stream",
     "text": [
      "Untitled.ipynb\t\t\t slurm-1949796.out  slurm-1949813.out\n",
      "cmip5_database_generation.ipynb  slurm-1949797.out  slurm-1949814.out\n",
      "dask-worker-space\t\t slurm-1949798.out  slurm-1949821.out\n",
      "slurm-1949785.out\t\t slurm-1949799.out  slurm-1949822.out\n",
      "slurm-1949786.out\t\t slurm-1949800.out  slurm-1949823.out\n",
      "slurm-1949787.out\t\t slurm-1949801.out  slurm-1949824.out\n",
      "slurm-1949788.out\t\t slurm-1949802.out  slurm-1949825.out\n",
      "slurm-1949789.out\t\t slurm-1949803.out  slurm-1949826.out\n",
      "slurm-1949790.out\t\t slurm-1949807.out  slurm-1949827.out\n",
      "slurm-1949791.out\t\t slurm-1949808.out  slurm-1949828.out\n",
      "slurm-1949792.out\t\t slurm-1949809.out  slurm-1949829.out\n",
      "slurm-1949793.out\t\t slurm-1949810.out  slurm-1949830.out\n",
      "slurm-1949794.out\t\t slurm-1949811.out  slurm-1949831.out\n",
      "slurm-1949795.out\t\t slurm-1949812.out\n"
     ]
    }
   ],
   "source": [
    "!ls"
   ]
  },
  {
   "cell_type": "code",
   "execution_count": 15,
   "metadata": {},
   "outputs": [],
   "source": [
    "ds_list = []\n",
    "for ens_i in b.ensemble.unique():\n",
    "    ens_match = (b.ensemble == ens_i)\n",
    "    paths = b.loc[ens_match].file_fullpath.tolist()\n",
    "    #ds_list.append(xr.open_mfdataset(paths))"
   ]
  },
  {
   "cell_type": "code",
   "execution_count": 16,
   "metadata": {},
   "outputs": [
    {
     "data": {
      "text/plain": [
       "['/glade/collections/cmip/cmip5/output1/NOAA-GFDL/GFDL-CM3/rcp85/mon/atmos/Amon/r1i1p1/ua_Amon_GFDL-CM3_rcp85_r1i1p1_209601-210012.nc',\n",
       " '/glade/collections/cmip/cmip5/output1/NOAA-GFDL/GFDL-CM3/rcp85/mon/atmos/Amon/r1i1p1/v20120227/ts/ts_Amon_GFDL-CM3_rcp85_r1i1p1_207601-208012.nc',\n",
       " '/glade/collections/cmip/cmip5/output1/NOAA-GFDL/GFDL-CM3/rcp85/mon/atmos/Amon/r1i1p1/v20120227/tas/tas_Amon_GFDL-CM3_rcp85_r1i1p1_209601-210012.nc',\n",
       " '/glade/collections/cmip/cmip5/output1/NOAA-GFDL/GFDL-CM3/rcp85/mon/atmos/Amon/r1i1p1/v20120227/rlds/rlds_Amon_GFDL-CM3_rcp85_r1i1p1_209601-210012.nc',\n",
       " '/glade/collections/cmip/cmip5/output1/NOAA-GFDL/GFDL-CM3/rcp85/mon/atmos/Amon/r1i1p1/v20120227/sfcWind/sfcWind_Amon_GFDL-CM3_rcp85_r1i1p1_209601-210012.nc',\n",
       " '/glade/collections/cmip/cmip5/output1/NOAA-GFDL/GFDL-CM3/rcp85/mon/atmos/Amon/r1i1p1/v20120227/pr/pr_Amon_GFDL-CM3_rcp85_r1i1p1_209601-210012.nc',\n",
       " '/glade/collections/cmip/cmip5/output1/NOAA-GFDL/GFDL-CM3/rcp85/mon/atmos/Amon/r1i1p1/v20120227/tasmin/tasmin_Amon_GFDL-CM3_rcp85_r1i1p1_209601-210012.nc',\n",
       " '/glade/collections/cmip/cmip5/output1/NOAA-GFDL/GFDL-CM3/rcp85/mon/atmos/Amon/r1i1p1/v20120227/rsds/rsds_Amon_GFDL-CM3_rcp85_r1i1p1_209601-210012.nc',\n",
       " '/glade/collections/cmip/cmip5/output1/NOAA-GFDL/GFDL-CM3/rcp85/mon/atmos/Amon/r1i1p1/v20120227/hurs/hurs_Amon_GFDL-CM3_rcp85_r1i1p1_209601-210012.nc',\n",
       " '/glade/collections/cmip/cmip5/output1/NOAA-GFDL/GFDL-CM3/rcp85/mon/atmos/Amon/r1i1p1/v20120227/hfls/hfls_Amon_GFDL-CM3_rcp85_r1i1p1_209601-210012.nc']"
      ]
     },
     "execution_count": 16,
     "metadata": {},
     "output_type": "execute_result"
    }
   ],
   "source": [
    "paths"
   ]
  },
  {
   "cell_type": "code",
   "execution_count": 28,
   "metadata": {},
   "outputs": [
    {
     "data": {
      "text/plain": [
       "'/glade/collections/cmip/cmip5/output1/NOAA-GFDL/GFDL-CM3/rcp85/mon/atmos/Amon/r1i1p1/v20120227/pr/pr_Amon_GFDL-CM3_rcp85_r1i1p1_209601-210012.nc'"
      ]
     },
     "execution_count": 28,
     "metadata": {},
     "output_type": "execute_result"
    }
   ],
   "source": [
    "paths[5]"
   ]
  },
  {
   "cell_type": "code",
   "execution_count": 24,
   "metadata": {},
   "outputs": [],
   "source": [
    "d = xr.open_mfdataset(paths[:4])"
   ]
  },
  {
   "cell_type": "code",
   "execution_count": 25,
   "metadata": {},
   "outputs": [
    {
     "data": {
      "text/plain": [
       "<xarray.DataArray 'height' ()>\n",
       "array(2.)\n",
       "Coordinates:\n",
       "    height   float64 ...\n",
       "Attributes:\n",
       "    units:          m\n",
       "    positive:       up\n",
       "    long_name:      height\n",
       "    standard_name:  height\n",
       "    axis:           Z"
      ]
     },
     "execution_count": 25,
     "metadata": {},
     "output_type": "execute_result"
    }
   ],
   "source": [
    "d.height"
   ]
  },
  {
   "cell_type": "code",
   "execution_count": 26,
   "metadata": {},
   "outputs": [
    {
     "data": {
      "text/plain": [
       "<xarray.Dataset>\n",
       "Dimensions:     (bnds: 2, lat: 90, lon: 144, plev: 23, time: 120)\n",
       "Coordinates:\n",
       "  * time        (time) datetime64[ns] 2076-01-16T12:00:00 ... 2100-12-16T12:00:00\n",
       "  * plev        (plev) float64 1e+05 9.25e+04 8.5e+04 ... 300.0 200.0 100.0\n",
       "  * lat         (lat) float64 -89.0 -87.0 -85.0 -83.0 ... 83.0 85.0 87.0 89.0\n",
       "  * lon         (lon) float64 1.25 3.75 6.25 8.75 ... 351.2 353.8 356.2 358.8\n",
       "    height      float64 ...\n",
       "Dimensions without coordinates: bnds\n",
       "Data variables:\n",
       "    time_bnds   (time, bnds) datetime64[ns] dask.array<shape=(120, 2), chunksize=(120, 2)>\n",
       "    lat_bnds    (lat, bnds) float64 dask.array<shape=(90, 2), chunksize=(90, 2)>\n",
       "    lon_bnds    (lon, bnds) float64 dask.array<shape=(144, 2), chunksize=(144, 2)>\n",
       "    ua          (time, plev, lat, lon) float32 dask.array<shape=(120, 23, 90, 144), chunksize=(120, 23, 90, 144)>\n",
       "    average_T1  (time) datetime64[ns] dask.array<shape=(120,), chunksize=(120,)>\n",
       "    average_T2  (time) datetime64[ns] dask.array<shape=(120,), chunksize=(120,)>\n",
       "    average_DT  (time) timedelta64[ns] dask.array<shape=(120,), chunksize=(120,)>\n",
       "    ts          (time, lat, lon) float32 dask.array<shape=(120, 90, 144), chunksize=(120, 90, 144)>\n",
       "    tas         (time, lat, lon) float32 dask.array<shape=(120, 90, 144), chunksize=(120, 90, 144)>\n",
       "    rlds        (time, lat, lon) float32 dask.array<shape=(120, 90, 144), chunksize=(120, 90, 144)>\n",
       "Attributes:\n",
       "    title:                  NOAA GFDL GFDL-CM3, RCP8.5 (run 1) experiment out...\n",
       "    institute_id:           NOAA GFDL\n",
       "    source:                 GFDL-CM3 2010 atmosphere: AM3 (AM3p9,C48L48); sea...\n",
       "    contact:                gfdl.climate.model.info@noaa.gov\n",
       "    project_id:             CMIP5\n",
       "    table_id:               Table Amon (31 Jan 2011)\n",
       "    experiment_id:          rcp85\n",
       "    realization:            1\n",
       "    modeling_realm:         atmos\n",
       "    tracking_id:            49e11023-58f3-423b-ad39-398fd2e87bce\n",
       "    Conventions:            CF-1.4\n",
       "    references:             The GFDL Data Portal (http://nomads.gfdl.noaa.gov...\n",
       "    comment:                GFDL experiment name: CM3Z_H1_2006-2100_RCP85_Z1\\...\n",
       "    gfdl_experiment_name:   CM3Z_H1_2006-2100_RCP85_Z1\n",
       "    creation_date:          2012-01-12T21:16:43Z\n",
       "    model_id:               GFDL-CM3\n",
       "    branch_time:            53290\n",
       "    experiment:             RCP8.5\n",
       "    forcing:                GHG,SA,Oz,LU,Sl,SS,BC,MD,OC (GHG includes CO2, CH...\n",
       "    frequency:              mon\n",
       "    initialization_method:  1\n",
       "    parent_experiment_id:   historical\n",
       "    physics_version:        1\n",
       "    product:                output1\n",
       "    institution:            NOAA GFDL(201 Forrestal Rd, Princeton, NJ, 08540)\n",
       "    history:                File was processed by fremetar (GFDL analog of CM...\n",
       "    parent_experiment_rip:  r1i1p1"
      ]
     },
     "execution_count": 26,
     "metadata": {},
     "output_type": "execute_result"
    }
   ],
   "source": [
    "d"
   ]
  },
  {
   "cell_type": "code",
   "execution_count": null,
   "metadata": {},
   "outputs": [],
   "source": []
  }
 ],
 "metadata": {
  "kernelspec": {
   "display_name": "Python [conda env:pangeo]",
   "language": "python",
   "name": "conda-env-pangeo-py"
  },
  "language_info": {
   "codemirror_mode": {
    "name": "ipython",
    "version": 3
   },
   "file_extension": ".py",
   "mimetype": "text/x-python",
   "name": "python",
   "nbconvert_exporter": "python",
   "pygments_lexer": "ipython3",
   "version": "3.6.6"
  }
 },
 "nbformat": 4,
 "nbformat_minor": 2
}
