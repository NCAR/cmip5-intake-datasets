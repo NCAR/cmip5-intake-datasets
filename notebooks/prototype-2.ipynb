{
 "cells": [
  {
   "cell_type": "code",
   "execution_count": 1,
   "metadata": {},
   "outputs": [],
   "source": [
    "from dask.distributed import Client\n",
    "import dask\n",
    "import os\n",
    "from dask_jobqueue import SLURMCluster\n",
    "PROJECT = os.environ[\"PBS_ACCOUNT\"]"
   ]
  },
  {
   "cell_type": "code",
   "execution_count": 2,
   "metadata": {},
   "outputs": [
    {
     "data": {
      "text/plain": [
       "<dask.config.set at 0x2b8bd729f588>"
      ]
     },
     "execution_count": 2,
     "metadata": {},
     "output_type": "execute_result"
    }
   ],
   "source": [
    "dask.config.set({'distributed.dashboard.link':'http://localhost:8877/proxy/{port}/status'})"
   ]
  },
  {
   "cell_type": "code",
   "execution_count": 3,
   "metadata": {},
   "outputs": [],
   "source": [
    "cluster = SLURMCluster(project=PROJECT, processes=6, cores=12, memory=\"5GB\",\n",
    "                           env_extra=['export LANG=\"en_US.utf8\"',\n",
    "                                      'export LANGUAGE=\"en_US.utf8\"',\n",
    "                                      'export LC_ALL=\"en_US.utf8\"',\n",
    "                                      'export LD_LIBRARY_PATH=\"\"',])"
   ]
  },
  {
   "cell_type": "code",
   "execution_count": 4,
   "metadata": {},
   "outputs": [
    {
     "data": {
      "application/vnd.jupyter.widget-view+json": {
       "model_id": "da622ec3531e4543a25e7abf975692c5",
       "version_major": 2,
       "version_minor": 0
      },
      "text/plain": [
       "VBox(children=(HTML(value='<h2>SLURMCluster</h2>'), HBox(children=(HTML(value='\\n<div>\\n  <style scoped>\\n    …"
      ]
     },
     "metadata": {},
     "output_type": "display_data"
    }
   ],
   "source": [
    "cluster"
   ]
  },
  {
   "cell_type": "code",
   "execution_count": 5,
   "metadata": {},
   "outputs": [
    {
     "data": {
      "text/html": [
       "<table style=\"border: 2px solid white;\">\n",
       "<tr>\n",
       "<td style=\"vertical-align: top; border: 0px solid white\">\n",
       "<h3>Client</h3>\n",
       "<ul>\n",
       "  <li><b>Scheduler: </b>tcp://10.12.202.18:40175\n",
       "  <li><b>Dashboard: </b><a href='http://localhost:8877/proxy/8787/status' target='_blank'>http://localhost:8877/proxy/8787/status</a>\n",
       "</ul>\n",
       "</td>\n",
       "<td style=\"vertical-align: top; border: 0px solid white\">\n",
       "<h3>Cluster</h3>\n",
       "<ul>\n",
       "  <li><b>Workers: </b>108</li>\n",
       "  <li><b>Cores: </b>216</li>\n",
       "  <li><b>Memory: </b>90.00 GB</li>\n",
       "</ul>\n",
       "</td>\n",
       "</tr>\n",
       "</table>"
      ],
      "text/plain": [
       "<Client: scheduler='tcp://10.12.202.18:40175' processes=108 cores=216>"
      ]
     },
     "execution_count": 5,
     "metadata": {},
     "output_type": "execute_result"
    }
   ],
   "source": [
    "client = Client(cluster)\n",
    "client"
   ]
  },
  {
   "cell_type": "code",
   "execution_count": 6,
   "metadata": {},
   "outputs": [],
   "source": [
    "# -*- coding: utf-8 -*-\n",
    "import os \n",
    "import pandas as pd\n",
    "from dask import delayed\n",
    "import re\n",
    "from pathlib import Path\n",
    "import functools\n",
    "import dask.dataframe as dd\n",
    "import shutil\n",
    "\n",
    "\n",
    "\n",
    "HOME = os.environ[\"HOME\"]\n",
    "INTAKE_CMIP5_DIR = f\"{HOME}/.intake_cmip5\"\n",
    "\n",
    "@functools.lru_cache(maxsize=1024, typed=False)\n",
    "def _parse_dirs(root_dir):\n",
    "    institution_dirs = [os.path.join(root_dir, activity, institution)\n",
    "                           for activity in os.listdir(root_dir)\n",
    "                           for institution in os.listdir(os.path.join(root_dir, activity))\n",
    "                           if os.path.isdir(os.path.join(root_dir, activity, institution))]\n",
    "        \n",
    "    model_dirs = [os.path.join(institution_dir, model)\n",
    "                      for institution_dir in institution_dirs\n",
    "                      for model in os.listdir(institution_dir)\n",
    "                      if os.path.isdir(os.path.join(institution_dir, model))]\n",
    "        \n",
    "    experiment_dirs = [os.path.join(model_dir, exp)\n",
    "                           for model_dir in model_dirs\n",
    "                           for exp in os.listdir(model_dir)\n",
    "                           if os.path.isdir(os.path.join(model_dir, exp))]\n",
    "        \n",
    "    freq_dirs = [os.path.join(experiment_dir, freq)\n",
    "                     for experiment_dir in experiment_dirs\n",
    "                     for freq in os.listdir(experiment_dir)\n",
    "                     if os.path.isdir(os.path.join(experiment_dir, freq))]\n",
    "        \n",
    "    realm_dirs = [os.path.join(freq_dir, realm)\n",
    "                      for freq_dir in freq_dirs\n",
    "                      for realm in os.listdir(freq_dir)\n",
    "                      if os.path.isdir(os.path.join(freq_dir, realm))]\n",
    "        \n",
    "    return realm_dirs\n",
    "    \n",
    "def _get_entry(directory):\n",
    "    dir_split = directory.split('/')\n",
    "    entry = {}\n",
    "    entry['realm'] = dir_split[-1]\n",
    "    entry['frequency'] = dir_split[-2]\n",
    "    entry['experiment'] = dir_split[-3]\n",
    "    entry['model'] = dir_split[-4]\n",
    "    entry['institution'] = dir_split[-5]\n",
    "    return entry\n",
    "        \n",
    "@delayed\n",
    "def parse_directory(directory):\n",
    "    exclude = set([\"files\", \"latests\"]) # directories to exclude\n",
    "\n",
    "    columns = [\"ensemble\", \"experiment\", \"file_basename\", \"file_fullpath\", \n",
    "                      \"frequency\", \"institution\", \"model\", \"root\", \"realm\", \"varname\"]\n",
    "    df = pd.DataFrame(columns=columns)\n",
    "\n",
    "    entry = _get_entry(directory)\n",
    "\n",
    "    for root, dirs, files in os.walk(directory):\n",
    "        # print(root)\n",
    "        dirs[:] = [d for d in dirs if d not in exclude]\n",
    "        if not files:\n",
    "            continue\n",
    "        sfiles = sorted([f for f in files if os.path.splitext(f)[1] == \".nc\"])\n",
    "        if not sfiles: continue\n",
    "\n",
    "        fs = []\n",
    "        for f in sfiles:\n",
    "            try:\n",
    "                f_split = f.split(\"_\")\n",
    "                entry['varname'] = f_split[0]\n",
    "                entry['ensemble'] = f_split[-2]\n",
    "                entry['root'] = root\n",
    "                entry['file_basename'] = f\n",
    "                entry['file_fullpath'] = os.path.join(root, f)\n",
    "                fs.append(entry)\n",
    "            except:\n",
    "                continue\n",
    "        if fs:\n",
    "            temp_df = pd.DataFrame(fs)\n",
    "\n",
    "        else:\n",
    "            temp_df = pd.DataFrame()\n",
    "            temp_df.columns = df.columns\n",
    "        df = pd.concat([temp_df, df], ignore_index=True)\n",
    "    return df\n",
    "\n",
    "def _persist_database(df):\n",
    "    vYYYYMMDD = r'v\\d{4}\\d{2}\\d{2}'\n",
    "    vN = r'v\\d{1}'\n",
    "    v = re.compile( \"|\".join([vYYYYMMDD, vN])) # Combine both regex into one\n",
    "    df[\"version\"] = df.root.str.findall(v)\n",
    "    df[\"version\"] = df[\"version\"].apply(lambda x: x[0] if x else 'v0')\n",
    "    sorted_df = df.sort_values(\"version\").drop_duplicates(subset=\"file_basename\", keep=\"last\")\\\n",
    "                  .reset_index(drop=True)\n",
    "    print(f\"**** Persisting CMIP5 database in {INTAKE_CMIP5_DIR} ****\")\n",
    "\n",
    "    if os.path.isdir(INTAKE_CMIP5_DIR):\n",
    "        shutil.rmtree(INTAKE_CMIP5_DIR)\n",
    "    os.makedirs(INTAKE_CMIP5_DIR, exist_ok=True)\n",
    "    \n",
    "    sorted_df.to_csv(f\"{INTAKE_CMIP5_DIR}/clean_cmip5_database.csv\", index=False)\n",
    "    df.to_csv(f\"{INTAKE_CMIP5_DIR}/raw_cmip5_database.csv\", index=False)\n",
    "    \n",
    "    return sorted_df\n",
    "\n",
    "def create_CMIP5Database(root_dir=None):\n",
    "    if not os.path.exists(root_dir):\n",
    "        raise NotADirectoryError(f\"{root_dir} does not exist\")\n",
    "        \n",
    "    dirs = _parse_dirs(root_dir)\n",
    "    dfs = [parse_directory(directory) for directory in dirs]\n",
    "    df = dd.from_delayed(dfs).compute()\n",
    "    df = _persist_database(df)\n",
    "    return df"
   ]
  },
  {
   "cell_type": "code",
   "execution_count": 7,
   "metadata": {},
   "outputs": [
    {
     "name": "stdout",
     "output_type": "stream",
     "text": [
      "**** Persisting CMIP5 database in /glade/u/home/abanihi/.intake_cmip5 ****\n",
      "CPU times: user 1min 13s, sys: 4.47 s, total: 1min 17s\n",
      "Wall time: 4min 26s\n"
     ]
    }
   ],
   "source": [
    "%time d = create_CMIP5Database(root_dir=\"/glade/collections/cmip/cmip5/\")"
   ]
  },
  {
   "cell_type": "code",
   "execution_count": 8,
   "metadata": {},
   "outputs": [
    {
     "data": {
      "text/html": [
       "<div>\n",
       "<style scoped>\n",
       "    .dataframe tbody tr th:only-of-type {\n",
       "        vertical-align: middle;\n",
       "    }\n",
       "\n",
       "    .dataframe tbody tr th {\n",
       "        vertical-align: top;\n",
       "    }\n",
       "\n",
       "    .dataframe thead th {\n",
       "        text-align: right;\n",
       "    }\n",
       "</style>\n",
       "<table border=\"1\" class=\"dataframe\">\n",
       "  <thead>\n",
       "    <tr style=\"text-align: right;\">\n",
       "      <th></th>\n",
       "      <th>ensemble</th>\n",
       "      <th>experiment</th>\n",
       "      <th>file_basename</th>\n",
       "      <th>file_fullpath</th>\n",
       "      <th>frequency</th>\n",
       "      <th>institution</th>\n",
       "      <th>model</th>\n",
       "      <th>realm</th>\n",
       "      <th>root</th>\n",
       "      <th>varname</th>\n",
       "      <th>version</th>\n",
       "    </tr>\n",
       "  </thead>\n",
       "  <tbody>\n",
       "    <tr>\n",
       "      <th>0</th>\n",
       "      <td>r2i1p1</td>\n",
       "      <td>rcp85</td>\n",
       "      <td>ua_Amon_CanESM2_rcp85_r2i1p1_200601-210012.nc</td>\n",
       "      <td>/glade/collections/cmip/cmip5/output1/CCCma/Ca...</td>\n",
       "      <td>mon</td>\n",
       "      <td>CCCma</td>\n",
       "      <td>CanESM2</td>\n",
       "      <td>atmos</td>\n",
       "      <td>/glade/collections/cmip/cmip5/output1/CCCma/Ca...</td>\n",
       "      <td>ua</td>\n",
       "      <td>v0</td>\n",
       "    </tr>\n",
       "    <tr>\n",
       "      <th>1</th>\n",
       "      <td>r5i1p1</td>\n",
       "      <td>rcp85</td>\n",
       "      <td>ua_Amon_CanESM2_rcp85_r5i1p1_200601-210012.nc</td>\n",
       "      <td>/glade/collections/cmip/cmip5/output1/CCCma/Ca...</td>\n",
       "      <td>mon</td>\n",
       "      <td>CCCma</td>\n",
       "      <td>CanESM2</td>\n",
       "      <td>atmos</td>\n",
       "      <td>/glade/collections/cmip/cmip5/output1/CCCma/Ca...</td>\n",
       "      <td>ua</td>\n",
       "      <td>v0</td>\n",
       "    </tr>\n",
       "    <tr>\n",
       "      <th>2</th>\n",
       "      <td>r3i1p1</td>\n",
       "      <td>historical</td>\n",
       "      <td>ua_Amon_GFDL-CM3_historical_r3i1p1_200501-2005...</td>\n",
       "      <td>/glade/collections/cmip/cmip5/output1/NOAA-GFD...</td>\n",
       "      <td>mon</td>\n",
       "      <td>NOAA-GFDL</td>\n",
       "      <td>GFDL-CM3</td>\n",
       "      <td>atmos</td>\n",
       "      <td>/glade/collections/cmip/cmip5/output1/NOAA-GFD...</td>\n",
       "      <td>ua</td>\n",
       "      <td>v0</td>\n",
       "    </tr>\n",
       "    <tr>\n",
       "      <th>3</th>\n",
       "      <td>r4i1p1</td>\n",
       "      <td>rcp85</td>\n",
       "      <td>ua_Amon_CanESM2_rcp85_r4i1p1_200601-210012.nc</td>\n",
       "      <td>/glade/collections/cmip/cmip5/output1/CCCma/Ca...</td>\n",
       "      <td>mon</td>\n",
       "      <td>CCCma</td>\n",
       "      <td>CanESM2</td>\n",
       "      <td>atmos</td>\n",
       "      <td>/glade/collections/cmip/cmip5/output1/CCCma/Ca...</td>\n",
       "      <td>ua</td>\n",
       "      <td>v0</td>\n",
       "    </tr>\n",
       "    <tr>\n",
       "      <th>4</th>\n",
       "      <td>r1i1p1</td>\n",
       "      <td>historical</td>\n",
       "      <td>ua_Amon_GFDL-CM3_historical_r1i1p1_200501-2005...</td>\n",
       "      <td>/glade/collections/cmip/cmip5/output1/NOAA-GFD...</td>\n",
       "      <td>mon</td>\n",
       "      <td>NOAA-GFDL</td>\n",
       "      <td>GFDL-CM3</td>\n",
       "      <td>atmos</td>\n",
       "      <td>/glade/collections/cmip/cmip5/output1/NOAA-GFD...</td>\n",
       "      <td>ua</td>\n",
       "      <td>v0</td>\n",
       "    </tr>\n",
       "  </tbody>\n",
       "</table>\n",
       "</div>"
      ],
      "text/plain": [
       "  ensemble  experiment                                      file_basename  \\\n",
       "0   r2i1p1       rcp85      ua_Amon_CanESM2_rcp85_r2i1p1_200601-210012.nc   \n",
       "1   r5i1p1       rcp85      ua_Amon_CanESM2_rcp85_r5i1p1_200601-210012.nc   \n",
       "2   r3i1p1  historical  ua_Amon_GFDL-CM3_historical_r3i1p1_200501-2005...   \n",
       "3   r4i1p1       rcp85      ua_Amon_CanESM2_rcp85_r4i1p1_200601-210012.nc   \n",
       "4   r1i1p1  historical  ua_Amon_GFDL-CM3_historical_r1i1p1_200501-2005...   \n",
       "\n",
       "                                       file_fullpath frequency institution  \\\n",
       "0  /glade/collections/cmip/cmip5/output1/CCCma/Ca...       mon       CCCma   \n",
       "1  /glade/collections/cmip/cmip5/output1/CCCma/Ca...       mon       CCCma   \n",
       "2  /glade/collections/cmip/cmip5/output1/NOAA-GFD...       mon   NOAA-GFDL   \n",
       "3  /glade/collections/cmip/cmip5/output1/CCCma/Ca...       mon       CCCma   \n",
       "4  /glade/collections/cmip/cmip5/output1/NOAA-GFD...       mon   NOAA-GFDL   \n",
       "\n",
       "      model  realm                                               root varname  \\\n",
       "0   CanESM2  atmos  /glade/collections/cmip/cmip5/output1/CCCma/Ca...      ua   \n",
       "1   CanESM2  atmos  /glade/collections/cmip/cmip5/output1/CCCma/Ca...      ua   \n",
       "2  GFDL-CM3  atmos  /glade/collections/cmip/cmip5/output1/NOAA-GFD...      ua   \n",
       "3   CanESM2  atmos  /glade/collections/cmip/cmip5/output1/CCCma/Ca...      ua   \n",
       "4  GFDL-CM3  atmos  /glade/collections/cmip/cmip5/output1/NOAA-GFD...      ua   \n",
       "\n",
       "  version  \n",
       "0      v0  \n",
       "1      v0  \n",
       "2      v0  \n",
       "3      v0  \n",
       "4      v0  "
      ]
     },
     "execution_count": 8,
     "metadata": {},
     "output_type": "execute_result"
    }
   ],
   "source": [
    "d.head()"
   ]
  },
  {
   "cell_type": "code",
   "execution_count": null,
   "metadata": {},
   "outputs": [],
   "source": []
  }
 ],
 "metadata": {
  "kernelspec": {
   "display_name": "Python [conda env:pangeo]",
   "language": "python",
   "name": "conda-env-pangeo-py"
  },
  "language_info": {
   "codemirror_mode": {
    "name": "ipython",
    "version": 3
   },
   "file_extension": ".py",
   "mimetype": "text/x-python",
   "name": "python",
   "nbconvert_exporter": "python",
   "pygments_lexer": "ipython3",
   "version": "3.6.6"
  }
 },
 "nbformat": 4,
 "nbformat_minor": 2
}
