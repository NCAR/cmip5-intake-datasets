{
 "cells": [
  {
   "cell_type": "markdown",
   "metadata": {},
   "source": [
    "# Quick overview"
   ]
  },
  {
   "cell_type": "markdown",
   "metadata": {},
   "source": [
    "The directory `intake-cmip` contains a full package to do the job."
   ]
  },
  {
   "cell_type": "markdown",
   "metadata": {},
   "source": [
    "## Intake-cmip structure"
   ]
  },
  {
   "cell_type": "code",
   "execution_count": 1,
   "metadata": {},
   "outputs": [
    {
     "name": "stdout",
     "output_type": "stream",
     "text": [
      "../../../intake_cmip/\n",
      "../../../intake_cmip//config.py\n",
      "../../../intake_cmip//_version.py\n",
      "../../../intake_cmip//cmip5.csv\n",
      "../../../intake_cmip//database.py\n",
      "../../../intake_cmip//__init__.py\n",
      "../../../intake_cmip//__pycache__\n",
      "../../../intake_cmip//__pycache__/database.cpython-36.pyc\n",
      "../../../intake_cmip//__pycache__/_version.cpython-36.pyc\n",
      "../../../intake_cmip//__pycache__/config.cpython-36.pyc\n",
      "../../../intake_cmip//__pycache__/cmip5.cpython-36.pyc\n",
      "../../../intake_cmip//__pycache__/__init__.cpython-36.pyc\n",
      "../../../intake_cmip//cmip5.py\n"
     ]
    }
   ],
   "source": [
    "!find ../../../intake_cmip/"
   ]
  },
  {
   "cell_type": "markdown",
   "metadata": {},
   "source": [
    "Intake-cmip contains just one DataSource class for the time being, although it could have several related source. \n",
    "The [`cmip5` module](https://github.com/NCAR/intake-cmip) has `CMIP5DataSource` class which subclasses [intake_xarray.base.DataSourceMixin](https://github.com/ContinuumIO/intake-xarray/blob/master/intake_xarray/base.py) class from `intake-xarray` plugin. \n",
    "\n",
    "\n",
    "`CMIP5DataSource` has the following class-level attributes:\n",
    "\n",
    "```python\n",
    "\n",
    "class CMIP5DataSource(intake_xarray.base.DataSourceMixin):\n",
    "    container = 'xarray'\n",
    "    version = '0.0.1'\n",
    "    partition_access = True\n",
    "    name = 'cmip5'\n",
    "```\n",
    "\n",
    "These attributes specify:\n",
    "\n",
    " - a name for the new plugin,\n",
    " - a version \n",
    " - an output data type (xarray container)\n",
    " - that the data will always be loaded in partitions. "
   ]
  },
  {
   "cell_type": "code",
   "execution_count": 2,
   "metadata": {},
   "outputs": [
    {
     "name": "stdout",
     "output_type": "stream",
     "text": [
      "LICENSE              \u001b[34mdocs\u001b[m\u001b[m                 setup.cfg\n",
      "MANIFEST.in          environment-dev.yml  setup.py\n",
      "README.rst           \u001b[34mintake_cmip\u001b[m\u001b[m          \u001b[34mtests\u001b[m\u001b[m\n",
      "\u001b[34m__pycache__\u001b[m\u001b[m          \u001b[34mintake_cmip.egg-info\u001b[m\u001b[m versioneer.py\n",
      "\u001b[34mci\u001b[m\u001b[m                   readthedocs.yml\n"
     ]
    }
   ],
   "source": [
    "!ls ../../../"
   ]
  },
  {
   "cell_type": "code",
   "execution_count": 3,
   "metadata": {},
   "outputs": [],
   "source": [
    "# Install the package\n",
    "!cd ../../../ && pip install -e . > /dev/null"
   ]
  },
  {
   "cell_type": "markdown",
   "metadata": {},
   "source": [
    "Since the class is in the top-level of the package i.e `__init__.py`, and the package name starts with intake_, it will be scanned when Intake is imported. Now the plugin automatically appears in the set of known plugins in the Intake registry, and an associated `intake.open_cmip5` function is created at import time."
   ]
  },
  {
   "cell_type": "code",
   "execution_count": 4,
   "metadata": {},
   "outputs": [],
   "source": [
    "import intake"
   ]
  },
  {
   "cell_type": "code",
   "execution_count": 5,
   "metadata": {},
   "outputs": [
    {
     "data": {
      "text/plain": [
       "True"
      ]
     },
     "execution_count": 5,
     "metadata": {},
     "output_type": "execute_result"
    }
   ],
   "source": [
    "'cmip5' in intake.registry"
   ]
  },
  {
   "cell_type": "markdown",
   "metadata": {},
   "source": [
    "##  Intake-cmip Database\n",
    "\n",
    "For `intake-cmip` to generate catalogs, we need to generate a database of netcdf files with their corresponding attributes. To generate this database, we use [CMIP5 Data Reference Syntax](https://cmip.llnl.gov/cmip5/docs/cmip5_data_reference_syntax_v1-00_clean.pdf) to infer the directory structure. Using `os.walk()`, we generate necessary information for each file. This database is then persisted to disk as an `csv` file. \n",
    "\n",
    "This file has the following columns:\n",
    "\n",
    "- **ensemble** :  `(r<N>i<M>p<L>)`: This triad of integers (N, M, L), formatted as\n",
    "shown above (e.g., “r3i1p21”) distinguishes among closely related simulations by a single\n",
    "model. All three are required even if only a single simulation is performed. \n",
    "- **experiment** : identifies either the experiment or both the experiment family and a specific type within that experiment family.\n",
    "- **file_basename** : indicates the name of the file.\n",
    "- **file_fullpath** : indicates the absolute file path.\n",
    "- **frequency** : indicates the interval between individual time-samples in the atomic dataset. For CMIP5, the following are the only options:\n",
    "\n",
    "   - yr\n",
    "   - mon\n",
    "   - day\n",
    "   - 6hr\n",
    "   - 3hr\n",
    "   - subhr\n",
    "   - monClim\n",
    "   - fx\n",
    "   \n",
    "- **realm** : indicates which high level modeling component is of particular relevance for the dataset. For CMIP5, permitted values are: \n",
    "\n",
    "   - atmos\n",
    "   - ocean \n",
    "   - land \n",
    "   - landIce \n",
    "   - seaIce\n",
    "   - aerosol\n",
    "   - atmosChem \n",
    "   - ocnBgchem\n",
    "   \n",
    "- **institution** : identifies the institute responsible for the model results (e.g. NCAR).\n",
    "- **model** : identifies the model used (e.g. HADCM3, HADCM3-233). \n",
    "- **varname** : identify the simulated physical quantity."
   ]
  },
  {
   "cell_type": "markdown",
   "metadata": {},
   "source": [
    "## Generate fake data and fake intake-cmip5 database"
   ]
  },
  {
   "cell_type": "code",
   "execution_count": 6,
   "metadata": {},
   "outputs": [],
   "source": [
    "# Import Packages\n",
    "import os\n",
    "import pandas as pd\n",
    "import xarray as xr\n",
    "import shutil\n",
    "import tempfile\n",
    "from intake_cmip.database import create_cmip5_database\n",
    "import intake_cmip"
   ]
  },
  {
   "cell_type": "code",
   "execution_count": 7,
   "metadata": {},
   "outputs": [],
   "source": [
    "CMIP5_TEST_DIR = tempfile.mkdtemp()\n",
    "DB_DIR = tempfile.mkdtemp()\n",
    "file_names = [\n",
    "    \"Tair_Amon_CanESM2_rcp85_r2i1p1_200601-203512.nc\",\n",
    "    \"Tair_OImon_CSIRO-Mk3-6-0_historical_r2i1p1_200601-203512.nc\",\n",
    "]"
   ]
  },
  {
   "cell_type": "code",
   "execution_count": 8,
   "metadata": {},
   "outputs": [],
   "source": [
    "def setup():\n",
    "    test_paths = [\n",
    "        f\"{CMIP5_TEST_DIR}/output1/CCCma/CanESM2/rcp85/mon/atmos/Amon/r2i1p1\",\n",
    "        f\"{CMIP5_TEST_DIR}/output2/CSIRO-QCCCE/CSIRO-Mk3-6-0/historical/mon/seaIce/OImon/r2i1p1/v1/sic\",\n",
    "    ]\n",
    "\n",
    "    ds = (\n",
    "        xr.tutorial.open_dataset(\"rasm\")\n",
    "        .load()\n",
    "        .isel(time=slice(0, 2), x=slice(0, 5), y=slice(0, 3))\n",
    "    )\n",
    "\n",
    "    for idx, path in enumerate(test_paths):\n",
    "        os.makedirs(path, exist_ok=True)\n",
    "        file_path = f\"{path}/{file_names[idx]}\"\n",
    "        ds.to_netcdf(file_path, mode=\"w\")"
   ]
  },
  {
   "cell_type": "code",
   "execution_count": 9,
   "metadata": {},
   "outputs": [
    {
     "name": "stdout",
     "output_type": "stream",
     "text": [
      "**** Persisting CMIP5 database: /var/folders/z7/sdhzbbr96bv2wjrsb92qsm3dwz5p3x/T/tmphff3n7cm/cmip5.csv ****\n"
     ]
    },
    {
     "data": {
      "text/html": [
       "<div>\n",
       "<style scoped>\n",
       "    .dataframe tbody tr th:only-of-type {\n",
       "        vertical-align: middle;\n",
       "    }\n",
       "\n",
       "    .dataframe tbody tr th {\n",
       "        vertical-align: top;\n",
       "    }\n",
       "\n",
       "    .dataframe thead th {\n",
       "        text-align: right;\n",
       "    }\n",
       "</style>\n",
       "<table border=\"1\" class=\"dataframe\">\n",
       "  <thead>\n",
       "    <tr style=\"text-align: right;\">\n",
       "      <th></th>\n",
       "      <th>ensemble</th>\n",
       "      <th>experiment</th>\n",
       "      <th>file_basename</th>\n",
       "      <th>file_fullpath</th>\n",
       "      <th>frequency</th>\n",
       "      <th>institution</th>\n",
       "      <th>model</th>\n",
       "      <th>realm</th>\n",
       "      <th>root</th>\n",
       "      <th>varname</th>\n",
       "      <th>version</th>\n",
       "    </tr>\n",
       "  </thead>\n",
       "  <tbody>\n",
       "    <tr>\n",
       "      <th>0</th>\n",
       "      <td>r2i1p1</td>\n",
       "      <td>historical</td>\n",
       "      <td>Tair_OImon_CSIRO-Mk3-6-0_historical_r2i1p1_200...</td>\n",
       "      <td>/var/folders/z7/sdhzbbr96bv2wjrsb92qsm3dwz5p3x...</td>\n",
       "      <td>mon</td>\n",
       "      <td>CSIRO-QCCCE</td>\n",
       "      <td>CSIRO-Mk3-6-0</td>\n",
       "      <td>seaIce</td>\n",
       "      <td>/var/folders/z7/sdhzbbr96bv2wjrsb92qsm3dwz5p3x...</td>\n",
       "      <td>Tair</td>\n",
       "      <td>v2</td>\n",
       "    </tr>\n",
       "    <tr>\n",
       "      <th>1</th>\n",
       "      <td>r2i1p1</td>\n",
       "      <td>rcp85</td>\n",
       "      <td>Tair_Amon_CanESM2_rcp85_r2i1p1_200601-203512.nc</td>\n",
       "      <td>/var/folders/z7/sdhzbbr96bv2wjrsb92qsm3dwz5p3x...</td>\n",
       "      <td>mon</td>\n",
       "      <td>CCCma</td>\n",
       "      <td>CanESM2</td>\n",
       "      <td>atmos</td>\n",
       "      <td>/var/folders/z7/sdhzbbr96bv2wjrsb92qsm3dwz5p3x...</td>\n",
       "      <td>Tair</td>\n",
       "      <td>v2</td>\n",
       "    </tr>\n",
       "  </tbody>\n",
       "</table>\n",
       "</div>"
      ],
      "text/plain": [
       "  ensemble  experiment                                      file_basename  \\\n",
       "0   r2i1p1  historical  Tair_OImon_CSIRO-Mk3-6-0_historical_r2i1p1_200...   \n",
       "1   r2i1p1       rcp85    Tair_Amon_CanESM2_rcp85_r2i1p1_200601-203512.nc   \n",
       "\n",
       "                                       file_fullpath frequency  institution  \\\n",
       "0  /var/folders/z7/sdhzbbr96bv2wjrsb92qsm3dwz5p3x...       mon  CSIRO-QCCCE   \n",
       "1  /var/folders/z7/sdhzbbr96bv2wjrsb92qsm3dwz5p3x...       mon        CCCma   \n",
       "\n",
       "           model   realm                                               root  \\\n",
       "0  CSIRO-Mk3-6-0  seaIce  /var/folders/z7/sdhzbbr96bv2wjrsb92qsm3dwz5p3x...   \n",
       "1        CanESM2   atmos  /var/folders/z7/sdhzbbr96bv2wjrsb92qsm3dwz5p3x...   \n",
       "\n",
       "  varname version  \n",
       "0    Tair      v2  \n",
       "1    Tair      v2  "
      ]
     },
     "execution_count": 9,
     "metadata": {},
     "output_type": "execute_result"
    }
   ],
   "source": [
    "# Generate fake cmip5 database\n",
    "setup()\n",
    "create_cmip5_database(CMIP5_TEST_DIR, DB_DIR)"
   ]
  },
  {
   "cell_type": "code",
   "execution_count": 10,
   "metadata": {},
   "outputs": [
    {
     "name": "stdout",
     "output_type": "stream",
     "text": [
      "cmip5.csv     raw_cmip5.csv\n"
     ]
    }
   ],
   "source": [
    "!ls {DB_DIR}"
   ]
  },
  {
   "cell_type": "markdown",
   "metadata": {},
   "source": [
    "## Using `intake-cmip5` Plugin"
   ]
  },
  {
   "cell_type": "code",
   "execution_count": 11,
   "metadata": {},
   "outputs": [],
   "source": [
    "# Specify path to database file\n",
    "db_file_path = f\"{DB_DIR}/cmip5.csv\""
   ]
  },
  {
   "cell_type": "code",
   "execution_count": 12,
   "metadata": {},
   "outputs": [],
   "source": [
    "source = intake.open_cmip5(database=db_file_path, model=\"CanESM2\", experiment=\"rcp85\",\n",
    "                           frequency=\"mon\", realm=\"atmos\", ensemble=\"r2i1p1\",\n",
    "                           varname=\"Tair\")"
   ]
  },
  {
   "cell_type": "code",
   "execution_count": 13,
   "metadata": {},
   "outputs": [
    {
     "data": {
      "text/plain": [
       "<intake_cmip.cmip5.CMIP5DataSource at 0x11a4a8e48>"
      ]
     },
     "execution_count": 13,
     "metadata": {},
     "output_type": "execute_result"
    }
   ],
   "source": [
    "source"
   ]
  },
  {
   "cell_type": "code",
   "execution_count": 14,
   "metadata": {},
   "outputs": [
    {
     "data": {
      "text/plain": [
       "{'datashape': None,\n",
       " 'dtype': None,\n",
       " 'shape': None,\n",
       " 'npartitions': None,\n",
       " 'metadata': {'dims': {'ensemble': 1, 'time': 2, 'x': 5, 'y': 3},\n",
       "  'data_vars': {'Tair': ['time', 'xc', 'yc', 'ensemble']},\n",
       "  'coords': ('time', 'xc', 'yc', 'ensemble'),\n",
       "  'title': '/workspace/jhamman/processed/R1002RBRxaaa01a/lnd/temp/R1002RBRxaaa01a.vic.ha.1979-09-01.nc',\n",
       "  'institution': 'U.W.',\n",
       "  'source': 'RACM R1002RBRxaaa01a',\n",
       "  'output_frequency': 'daily',\n",
       "  'output_mode': 'averaged',\n",
       "  'convention': 'CF-1.4',\n",
       "  'references': 'Based on the initial model of Liang et al., 1994, JGR, 99, 14,415- 14,429.',\n",
       "  'comment': 'Output from the Variable Infiltration Capacity (VIC) model.',\n",
       "  'nco_openmp_thread_number': 1,\n",
       "  'NCO': '\"4.6.0\"',\n",
       "  'history': 'Tue Dec 27 14:15:22 2016: ncatted -a dimensions,,d,, rasm.nc rasm.nc\\nTue Dec 27 13:38:40 2016: ncks -3 rasm.nc rasm.nc\\nhistory deleted for brevity'}}"
      ]
     },
     "execution_count": 14,
     "metadata": {},
     "output_type": "execute_result"
    }
   ],
   "source": [
    "source.discover()"
   ]
  },
  {
   "cell_type": "code",
   "execution_count": 15,
   "metadata": {},
   "outputs": [],
   "source": [
    "out = source.to_xarray()"
   ]
  },
  {
   "cell_type": "code",
   "execution_count": 16,
   "metadata": {},
   "outputs": [
    {
     "data": {
      "text/plain": [
       "<xarray.Dataset>\n",
       "Dimensions:   (ensemble: 1, time: 2, x: 5, y: 3)\n",
       "Coordinates:\n",
       "  * time      (time) object 1980-09-16 12:00:00 1980-10-17 00:00:00\n",
       "    xc        (y, x) float64 189.2 189.4 189.6 189.7 ... 188.9 189.0 189.2 189.4\n",
       "    yc        (y, x) float64 16.53 16.78 17.02 17.27 ... 17.1 17.34 17.59 17.84\n",
       "  * ensemble  (ensemble) <U6 'r2i1p1'\n",
       "Dimensions without coordinates: x, y\n",
       "Data variables:\n",
       "    Tair      (ensemble, time, y, x) float64 dask.array<shape=(1, 2, 3, 5), chunksize=(1, 2, 3, 5)>\n",
       "Attributes:\n",
       "    title:                     /workspace/jhamman/processed/R1002RBRxaaa01a/l...\n",
       "    institution:               U.W.\n",
       "    source:                    RACM R1002RBRxaaa01a\n",
       "    output_frequency:          daily\n",
       "    output_mode:               averaged\n",
       "    convention:                CF-1.4\n",
       "    references:                Based on the initial model of Liang et al., 19...\n",
       "    comment:                   Output from the Variable Infiltration Capacity...\n",
       "    nco_openmp_thread_number:  1\n",
       "    NCO:                       \"4.6.0\"\n",
       "    history:                   Tue Dec 27 14:15:22 2016: ncatted -a dimension..."
      ]
     },
     "execution_count": 16,
     "metadata": {},
     "output_type": "execute_result"
    }
   ],
   "source": [
    "out"
   ]
  },
  {
   "cell_type": "code",
   "execution_count": 17,
   "metadata": {},
   "outputs": [
    {
     "name": "stdout",
     "output_type": "stream",
     "text": [
      "plugins:\n",
      "  source:\n",
      "  - module: intake_cmip.cmip5\n",
      "sources:\n",
      "  cmip5:\n",
      "    args:\n",
      "      database: /var/folders/z7/sdhzbbr96bv2wjrsb92qsm3dwz5p3x/T/tmphff3n7cm/cmip5.csv\n",
      "      ensemble: r2i1p1\n",
      "      experiment: rcp85\n",
      "      frequency: mon\n",
      "      model: CanESM2\n",
      "      realm: atmos\n",
      "      varname: Tair\n",
      "    description: ''\n",
      "    driver: cmip5\n",
      "    metadata:\n",
      "      NCO: '\"4.6.0\"'\n",
      "      comment: Output from the Variable Infiltration Capacity (VIC) model.\n",
      "      convention: CF-1.4\n",
      "      coords: !!python/tuple\n",
      "      - time\n",
      "      - xc\n",
      "      - yc\n",
      "      - ensemble\n",
      "      data_vars:\n",
      "        Tair:\n",
      "        - time\n",
      "        - xc\n",
      "        - yc\n",
      "        - ensemble\n",
      "      dims:\n",
      "        ensemble: 1\n",
      "        time: 2\n",
      "        x: 5\n",
      "        y: 3\n",
      "      history: \"Tue Dec 27 14:15:22 2016: ncatted -a dimensions,,d,, rasm.nc rasm.nc\\n\\\n",
      "        Tue Dec 27 13:38:40 2016: ncks -3 rasm.nc rasm.nc\\nhistory deleted for brevity\"\n",
      "      institution: U.W.\n",
      "      nco_openmp_thread_number: !!python/object/apply:numpy.core.multiarray.scalar\n",
      "      - !!python/object/apply:numpy.dtype\n",
      "        args:\n",
      "        - i4\n",
      "        - 0\n",
      "        - 1\n",
      "        state: !!python/tuple\n",
      "        - 3\n",
      "        - <\n",
      "        - null\n",
      "        - null\n",
      "        - null\n",
      "        - -1\n",
      "        - -1\n",
      "        - 0\n",
      "      - !!binary |\n",
      "        AQAAAA==\n",
      "      output_frequency: daily\n",
      "      output_mode: averaged\n",
      "      references: Based on the initial model of Liang et al., 1994, JGR, 99, 14,415-\n",
      "        14,429.\n",
      "      source: RACM R1002RBRxaaa01a\n",
      "      title: /workspace/jhamman/processed/R1002RBRxaaa01a/lnd/temp/R1002RBRxaaa01a.vic.ha.1979-09-01.nc\n",
      "\n"
     ]
    }
   ],
   "source": [
    "print(source.yaml(True))"
   ]
  },
  {
   "cell_type": "code",
   "execution_count": 18,
   "metadata": {},
   "outputs": [],
   "source": [
    "%load_ext watermark"
   ]
  },
  {
   "cell_type": "code",
   "execution_count": 19,
   "metadata": {},
   "outputs": [
    {
     "name": "stdout",
     "output_type": "stream",
     "text": [
      "intake      0.2.9\n",
      "pandas      0.23.4\n",
      "xarray      0.11.0\n",
      "intake_cmip  0+untagged.85.gd38875e.dirty\n",
      "last updated: 2018-12-27 \n",
      "\n",
      "CPython 3.6.7\n",
      "IPython 7.0.1\n",
      "Git hash: d38875e518ff2dcb9d30369342a4d84d2b26f217\n"
     ]
    }
   ],
   "source": [
    "%watermark --iversion -g -v -u -d"
   ]
  }
 ],
 "metadata": {
  "kernelspec": {
   "display_name": "Python 3",
   "language": "python",
   "name": "python3"
  },
  "language_info": {
   "codemirror_mode": {
    "name": "ipython",
    "version": 3
   },
   "file_extension": ".py",
   "mimetype": "text/x-python",
   "name": "python",
   "nbconvert_exporter": "python",
   "pygments_lexer": "ipython3",
   "version": "3.6.7"
  }
 },
 "nbformat": 4,
 "nbformat_minor": 2
}
